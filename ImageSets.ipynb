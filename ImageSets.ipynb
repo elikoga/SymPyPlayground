{
  "nbformat": 4,
  "nbformat_minor": 0,
  "metadata": {
    "colab": {
      "name": "ImageSets.ipynb",
      "provenance": [],
      "collapsed_sections": [],
      "authorship_tag": "ABX9TyNTUyYX75xX4/78hzgVrRVK",
      "include_colab_link": true
    },
    "kernelspec": {
      "name": "python3",
      "display_name": "Python 3"
    },
    "language_info": {
      "name": "python"
    }
  },
  "cells": [
    {
      "cell_type": "markdown",
      "metadata": {
        "id": "view-in-github",
        "colab_type": "text"
      },
      "source": [
        "<a href=\"https://colab.research.google.com/github/elikoga/SymPyPlayground/blob/master/ImageSets.ipynb\" target=\"_parent\"><img src=\"https://colab.research.google.com/assets/colab-badge.svg\" alt=\"Open In Colab\"/></a>"
      ]
    },
    {
      "cell_type": "code",
      "metadata": {
        "id": "RV5HxsipXLWA"
      },
      "source": [
        "from sympy import Symbol, S, imageset"
      ],
      "execution_count": 1,
      "outputs": []
    },
    {
      "cell_type": "code",
      "metadata": {
        "id": "kzOspBMnXfOS"
      },
      "source": [
        "from itertools import islice\n",
        "from IPython.display import display, Latex\n",
        "from sympy import latex\n",
        "\n",
        "def preview_set(integer_set):\n",
        "  preview_ints = islice(integer_set, 0, 6)\n",
        "  preview_ints_str = r\"\\{\" + \", \".join(map(str, preview_ints)) + r\", \\dots\\}\"\n",
        "  display(Latex(latex(integer_set) + r\"=\" + preview_ints_str))"
      ],
      "execution_count": 2,
      "outputs": []
    },
    {
      "cell_type": "code",
      "metadata": {
        "colab": {
          "base_uri": "https://localhost:8080/",
          "height": 38
        },
        "id": "6gKyIVDOZnlr",
        "outputId": "6f35560b-527a-4cb3-a415-b840bc0ab949"
      },
      "source": [
        "ZZ = S.Integers\n",
        "preview_set(ZZ)"
      ],
      "execution_count": 3,
      "outputs": [
        {
          "output_type": "display_data",
          "data": {
            "text/latex": "\\mathbb{Z}=\\{0, 1, -1, 2, -2, 3, \\dots\\}",
            "text/plain": [
              "<IPython.core.display.Latex object>"
            ]
          },
          "metadata": {
            "tags": []
          }
        }
      ]
    },
    {
      "cell_type": "code",
      "metadata": {
        "id": "i_PAeAkCXklT"
      },
      "source": [
        "set1 = imageset(lambda x: x*2, ZZ)"
      ],
      "execution_count": 4,
      "outputs": []
    },
    {
      "cell_type": "code",
      "metadata": {
        "colab": {
          "base_uri": "https://localhost:8080/",
          "height": 112
        },
        "id": "ipusiQGwZPjc",
        "outputId": "d95661d4-fd51-4e82-beaf-c39ee80b8729"
      },
      "source": [
        "preview_set(set1)\n",
        "print(-20 in set1)\n",
        "print(-21 in set1)\n",
        "print(-22 in set1)\n",
        "print(-23 in set1)"
      ],
      "execution_count": 5,
      "outputs": [
        {
          "output_type": "display_data",
          "data": {
            "text/latex": "\\left\\{2 x\\; |\\; x \\in \\mathbb{Z}\\right\\}=\\{0, 2, -2, 4, -4, 6, \\dots\\}",
            "text/plain": [
              "<IPython.core.display.Latex object>"
            ]
          },
          "metadata": {
            "tags": []
          }
        },
        {
          "output_type": "stream",
          "text": [
            "True\n",
            "False\n",
            "True\n",
            "False\n"
          ],
          "name": "stdout"
        }
      ]
    },
    {
      "cell_type": "code",
      "metadata": {
        "id": "Gwk2d3hreyW6"
      },
      "source": [
        "set2 = imageset(lambda x: x*3, set1)"
      ],
      "execution_count": 6,
      "outputs": []
    },
    {
      "cell_type": "code",
      "metadata": {
        "colab": {
          "base_uri": "https://localhost:8080/",
          "height": 130
        },
        "id": "glr1ksWuey_L",
        "outputId": "2f56b88e-c246-4dd6-ed18-4e65ef48ca22"
      },
      "source": [
        "preview_set(set2)\n",
        "print(4 in set2)\n",
        "print(5 in set2)\n",
        "print(6 in set2)\n",
        "print(7 in set2)\n",
        "print(36 in set2)"
      ],
      "execution_count": 7,
      "outputs": [
        {
          "output_type": "display_data",
          "data": {
            "text/latex": "\\left\\{6 x\\; |\\; x \\in \\mathbb{Z}\\right\\}=\\{0, 6, -6, 12, -12, 18, \\dots\\}",
            "text/plain": [
              "<IPython.core.display.Latex object>"
            ]
          },
          "metadata": {
            "tags": []
          }
        },
        {
          "output_type": "stream",
          "text": [
            "False\n",
            "False\n",
            "True\n",
            "False\n",
            "True\n"
          ],
          "name": "stdout"
        }
      ]
    },
    {
      "cell_type": "code",
      "metadata": {
        "id": "yKGJobV0hJvK"
      },
      "source": [
        "set3 = imageset(lambda x: x/6, set2)"
      ],
      "execution_count": 8,
      "outputs": []
    },
    {
      "cell_type": "code",
      "metadata": {
        "colab": {
          "base_uri": "https://localhost:8080/",
          "height": 130
        },
        "id": "_vmyu6obhLWG",
        "outputId": "5d5ac260-e4c7-4fa2-d630-4406825d1159"
      },
      "source": [
        "preview_set(set3)\n",
        "print(4 in set3)\n",
        "print(5 in set3)\n",
        "print(6 in set3)\n",
        "print(7 in set3)\n",
        "print(36 in set3)"
      ],
      "execution_count": 9,
      "outputs": [
        {
          "output_type": "display_data",
          "data": {
            "text/latex": "\\mathbb{Z}=\\{0, 1, -1, 2, -2, 3, \\dots\\}",
            "text/plain": [
              "<IPython.core.display.Latex object>"
            ]
          },
          "metadata": {
            "tags": []
          }
        },
        {
          "output_type": "stream",
          "text": [
            "True\n",
            "True\n",
            "True\n",
            "True\n",
            "True\n"
          ],
          "name": "stdout"
        }
      ]
    }
  ]
}