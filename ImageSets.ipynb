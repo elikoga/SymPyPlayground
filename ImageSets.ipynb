{
  "nbformat": 4,
  "nbformat_minor": 0,
  "metadata": {
    "colab": {
      "name": "ImageSets.ipynb",
      "provenance": [],
      "collapsed_sections": [],
      "authorship_tag": "ABX9TyM2bVz5+xLH5t0KY9mXE+Pi",
      "include_colab_link": true
    },
    "kernelspec": {
      "name": "python3",
      "display_name": "Python 3"
    },
    "language_info": {
      "name": "python"
    }
  },
  "cells": [
    {
      "cell_type": "markdown",
      "metadata": {
        "id": "view-in-github",
        "colab_type": "text"
      },
      "source": [
        "<a href=\"https://colab.research.google.com/github/elikoga/SymPyPlayground/blob/master/ImageSets.ipynb\" target=\"_parent\"><img src=\"https://colab.research.google.com/assets/colab-badge.svg\" alt=\"Open In Colab\"/></a>"
      ]
    },
    {
      "cell_type": "code",
      "metadata": {
        "id": "RV5HxsipXLWA"
      },
      "source": [
        "from sympy import Symbol, S, imageset"
      ],
      "execution_count": 1,
      "outputs": []
    },
    {
      "cell_type": "code",
      "metadata": {
        "id": "1aNO21zmXbCl"
      },
      "source": [
        "x = Symbol('x')"
      ],
      "execution_count": 2,
      "outputs": []
    },
    {
      "cell_type": "code",
      "metadata": {
        "id": "kzOspBMnXfOS"
      },
      "source": [
        "from itertools import islice\n",
        "from IPython.display import display, Latex\n",
        "from sympy import latex\n",
        "\n",
        "def preview_set(integer_set):\n",
        "  preview_ints = islice(integer_set, 0, 6)\n",
        "  preview_ints_str = r\"\\{\" + \", \".join(map(str, preview_ints)) + r\", \\dots\\}\"\n",
        "  display(Latex(latex(integer_set) + r\"=\" + preview_ints_str))"
      ],
      "execution_count": 3,
      "outputs": []
    },
    {
      "cell_type": "code",
      "metadata": {
        "colab": {
          "base_uri": "https://localhost:8080/",
          "height": 38
        },
        "id": "6gKyIVDOZnlr",
        "outputId": "e277af84-b8fd-4d8d-ccc5-84465a999661"
      },
      "source": [
        "ZZ = S.Integers\n",
        "preview_set(ZZ)"
      ],
      "execution_count": 4,
      "outputs": [
        {
          "output_type": "display_data",
          "data": {
            "text/latex": "\\mathbb{Z}=\\{0, 1, -1, 2, -2, 3, \\dots\\}",
            "text/plain": [
              "<IPython.core.display.Latex object>"
            ]
          },
          "metadata": {
            "tags": []
          }
        }
      ]
    },
    {
      "cell_type": "code",
      "metadata": {
        "id": "i_PAeAkCXklT"
      },
      "source": [
        "set1 = imageset(lambda x: x*2, ZZ)"
      ],
      "execution_count": 5,
      "outputs": []
    },
    {
      "cell_type": "code",
      "metadata": {
        "colab": {
          "base_uri": "https://localhost:8080/",
          "height": 112
        },
        "id": "ipusiQGwZPjc",
        "outputId": "9923cbee-44de-4550-e225-5d566f4a9805"
      },
      "source": [
        "preview_set(set1)\n",
        "print(-20 in set1)\n",
        "print(-21 in set1)\n",
        "print(-22 in set1)\n",
        "print(-23 in set1)"
      ],
      "execution_count": 6,
      "outputs": [
        {
          "output_type": "display_data",
          "data": {
            "text/latex": "\\left\\{2 x\\; |\\; x \\in \\mathbb{Z}\\right\\}=\\{0, 2, -2, 4, -4, 6, \\dots\\}",
            "text/plain": [
              "<IPython.core.display.Latex object>"
            ]
          },
          "metadata": {
            "tags": []
          }
        },
        {
          "output_type": "stream",
          "text": [
            "True\n",
            "False\n",
            "True\n",
            "False\n"
          ],
          "name": "stdout"
        }
      ]
    },
    {
      "cell_type": "code",
      "metadata": {
        "id": "Gwk2d3hreyW6"
      },
      "source": [
        "set2 = imageset(lambda x: x*3, set1)"
      ],
      "execution_count": 7,
      "outputs": []
    },
    {
      "cell_type": "code",
      "metadata": {
        "colab": {
          "base_uri": "https://localhost:8080/",
          "height": 130
        },
        "id": "glr1ksWuey_L",
        "outputId": "5353cc8f-7a41-4b61-ce81-41503af198ff"
      },
      "source": [
        "preview_set(set2)\n",
        "print(4 in set2)\n",
        "print(5 in set2)\n",
        "print(6 in set2)\n",
        "print(7 in set2)\n",
        "print(36 in set2)"
      ],
      "execution_count": 8,
      "outputs": [
        {
          "output_type": "display_data",
          "data": {
            "text/latex": "\\left\\{6 x\\; |\\; x \\in \\mathbb{Z}\\right\\}=\\{0, 6, -6, 12, -12, 18, \\dots\\}",
            "text/plain": [
              "<IPython.core.display.Latex object>"
            ]
          },
          "metadata": {
            "tags": []
          }
        },
        {
          "output_type": "stream",
          "text": [
            "False\n",
            "False\n",
            "True\n",
            "False\n",
            "True\n"
          ],
          "name": "stdout"
        }
      ]
    },
    {
      "cell_type": "code",
      "metadata": {
        "id": "yKGJobV0hJvK"
      },
      "source": [
        "set3 = imageset(lambda x: x/6, set2)"
      ],
      "execution_count": 9,
      "outputs": []
    },
    {
      "cell_type": "code",
      "metadata": {
        "colab": {
          "base_uri": "https://localhost:8080/",
          "height": 130
        },
        "id": "_vmyu6obhLWG",
        "outputId": "f5426798-4871-49c9-f539-194b6bd1e180"
      },
      "source": [
        "preview_set(set3)\n",
        "print(4 in set3)\n",
        "print(5 in set3)\n",
        "print(6 in set3)\n",
        "print(7 in set3)\n",
        "print(36 in set3)"
      ],
      "execution_count": 10,
      "outputs": [
        {
          "output_type": "display_data",
          "data": {
            "text/latex": "\\mathbb{Z}=\\{0, 1, -1, 2, -2, 3, \\dots\\}",
            "text/plain": [
              "<IPython.core.display.Latex object>"
            ]
          },
          "metadata": {
            "tags": []
          }
        },
        {
          "output_type": "stream",
          "text": [
            "True\n",
            "True\n",
            "True\n",
            "True\n",
            "True\n"
          ],
          "name": "stdout"
        }
      ]
    }
  ]
}
